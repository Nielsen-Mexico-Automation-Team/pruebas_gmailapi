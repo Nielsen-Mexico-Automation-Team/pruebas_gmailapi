{
 "cells": [
  {
   "cell_type": "code",
   "execution_count": 89,
   "id": "20b300d7-0233-48cd-acad-a5429923ef37",
   "metadata": {},
   "outputs": [],
   "source": [
    "import pandas as pd\n",
    "import numpy as np \n"
   ]
  },
  {
   "cell_type": "code",
   "execution_count": null,
   "id": "9494f5a8-eae6-4357-8541-2b1c1d1e3b83",
   "metadata": {},
   "outputs": [],
   "source": [
    "# Primero hay que averigüar cuál es el label Id de los X-check de Italia. \n",
    "# ESto se logra leyendo el metadata. (cambiando 'raw' por 'metadata')\n",
    "#Teniendo eso, ya se puede leer el contenido decodificándolo"
   ]
  },
  {
   "cell_type": "code",
   "execution_count": 145,
   "id": "ea9effc1-1cd2-4eed-b49e-e9c524fad5aa",
   "metadata": {},
   "outputs": [],
   "source": [
    "# import the required libraries\n",
    "from googleapiclient.discovery import build\n",
    "from google_auth_oauthlib.flow import InstalledAppFlow\n",
    "from google.auth.transport.requests import Request\n",
    "import pickle\n",
    "import os.path\n",
    "import base64\n",
    "import email\n",
    "from bs4 import BeautifulSoup\n",
    "\n",
    "# Define the SCOPES. If modifying it, delete the token.pickle file.\n",
    "SCOPES = ['https://www.googleapis.com/auth/gmail.readonly']\n",
    "\n",
    "def getEmails():\n",
    "    # Variable creds will store the user access token.\n",
    "    # If no valid token found, we will create one.\n",
    "    creds = None\n",
    "\n",
    "    # The file token.pickle contains the user access token.\n",
    "    # Check if it exists\n",
    "    if os.path.exists('token.pickle'):\n",
    "\n",
    "        # Read the token from the file and store it in the variable creds\n",
    "        with open('token.pickle', 'rb') as token:\n",
    "            creds = pickle.load(token)\n",
    "\n",
    "    # If credentials are not available or are invalid, ask the user to log in.\n",
    "    if not creds or not creds.valid:\n",
    "        if creds and creds.expired and creds.refresh_token:\n",
    "            creds.refresh(Request())\n",
    "        else:\n",
    "            flow = InstalledAppFlow.from_client_secrets_file('credentials.json', SCOPES)\n",
    "            creds = flow.run_local_server(port=0)\n",
    "\n",
    "        # Save the access token in token.pickle file for the next run\n",
    "        with open('token.pickle', 'wb') as token:\n",
    "            pickle.dump(creds, token)\n",
    "\n",
    "    # Connect to the Gmail API\n",
    "    service = build('gmail', 'v1', credentials=creds)\n",
    "\n",
    "    # request a list of all the messages\n",
    "    result = service.users().messages().list(userId='me', labelIds=['Label_1160941541567749419']).execute()\n",
    "\n",
    "    # We can also pass maxResults to get any number of emails. Like this:\n",
    "    # result = service.users().messages().list(maxResults=200, userId='me').execute()\n",
    "    messages = result.get('messages')\n",
    "    limit=17\n",
    "    # messages is a list of dictionaries where each dictionary contains a message id.\n",
    "    counter=0\n",
    "    # iterate through all the messages\n",
    "    for msg in messages:\n",
    "\n",
    "        # Get the message from its id\n",
    "        txt = service.users().messages().get(userId='me', id=msg['id'], format='raw').execute()\n",
    "\n",
    "        # Use try-except to avoid any Errors\n",
    "        # try:\n",
    "            # Get value of 'payload' from dictionary 'txt'\n",
    "        # payload = txt['payload']\n",
    "        # headers = payload['headers']\n",
    "        # print(txt)\n",
    "        # Look for Subject and Sender Email in the headers\n",
    "#         for d in headers:\n",
    "#             if d['name'] == 'Subject':\n",
    "#                 subject = d['value']\n",
    "#             if d['name'] == 'From':\n",
    "#                 sender = d['value']\n",
    "\n",
    "#         # The Body of the message is in Encrypted format. So, we have to decode it.\n",
    "#         # Get the data and decode it with base 64 decoder.\n",
    "#         if payload.get('parts')==None:\n",
    "#             print(payload.get('parts'))\n",
    "#         else:\n",
    "#             parts = payload.get('parts')[0]\n",
    "#             print(parts['body'])\n",
    "#             # data = parts['body']['data']\n",
    "#             data = data.replace(\"-\",\"+\").replace(\"_\",\"/\")\n",
    "#             decoded_data = base64.b64decode(data)\n",
    "#             print(d['value'])\n",
    "#             # Now, the data obtained is in lxml. So, we will parse\n",
    "#             # it with BeautifulSoup library\n",
    "#             soup = BeautifulSoup(decoded_data , \"lxml\")\n",
    "#             body = soup.body()\n",
    "\n",
    "        # Printing the subject, sender's email and message\n",
    "        # print(\"Subject: \", subject)\n",
    "        # print(\"From: \", sender)\n",
    "        # # print(\"Message: \", body)\n",
    "        # print('\\n')\n",
    "        counter=counter+1\n",
    "        if counter>=limit:\n",
    "            return(txt)\n",
    "            break\n",
    "    # except:\n",
    "    # \tcounter=counter+1\n",
    "        # print('failed_something')\n",
    "\n",
    "\n",
    "text2 = getEmails()\n"
   ]
  },
  {
   "cell_type": "code",
   "execution_count": 148,
   "id": "e14f742a-27a0-4576-ba3a-12cd215520fc",
   "metadata": {},
   "outputs": [],
   "source": [
    "def parse_msg(msg):\n",
    "    if msg.get(\"payload\").get(\"body\").get(\"data\"):\n",
    "        return base64.urlsafe_b64decode(msg.get(\"payload\").get(\"body\").get(\"data\").encode(\"ASCII\")).decode(\"utf-8\")\n",
    "    return msg.get(\"snippet\") "
   ]
  },
  {
   "cell_type": "code",
   "execution_count": 149,
   "id": "478da263-e69f-4d00-9c95-ef284bf61a9b",
   "metadata": {},
   "outputs": [],
   "source": [
    "msg_content=base64.urlsafe_b64decode(text2['raw'].encode('ASCII')).decode('utf-8')"
   ]
  },
  {
   "cell_type": "code",
   "execution_count": 150,
   "id": "1d737a7a-7186-42fe-8987-72f3002ef0c4",
   "metadata": {},
   "outputs": [],
   "source": [
    "text_file = open(\"data.txt\", \"w\")\n",
    "text_file.write(msg_content)\n",
    "text_file.close()"
   ]
  },
  {
   "cell_type": "code",
   "execution_count": 152,
   "id": "e2e5bdfb-8dfa-4e02-bd6c-7a488f3aacc0",
   "metadata": {},
   "outputs": [],
   "source": [
    "text2.get('payload')"
   ]
  },
  {
   "cell_type": "code",
   "execution_count": 154,
   "id": "c48be68c-e923-4462-b495-8160cc0b27ba",
   "metadata": {},
   "outputs": [
    {
     "data": {
      "text/plain": [
       "'SurveillanceMaster X-Check Report Process Time: 1/16/2023 8:06:07 PM Job Parameters SurveillanceMaster Version 5.23.2206.8 Report Date 1/16/2023 Time Window 16:00:00 to 18:59:59 Include Local Reels'"
      ]
     },
     "execution_count": 154,
     "metadata": {},
     "output_type": "execute_result"
    }
   ],
   "source": [
    "text2['snippet']"
   ]
  },
  {
   "cell_type": "code",
   "execution_count": 92,
   "id": "a62afcf1-3325-491e-83c1-da5cee26beee",
   "metadata": {},
   "outputs": [
    {
     "ename": "NameError",
     "evalue": "name 'user_id' is not defined",
     "output_type": "error",
     "traceback": [
      "\u001b[1;31m---------------------------------------------------------------------------\u001b[0m",
      "\u001b[1;31mNameError\u001b[0m                                 Traceback (most recent call last)",
      "\u001b[1;32m~\\AppData\\Local\\Temp\\1\\ipykernel_19308\\2839648837.py\u001b[0m in \u001b[0;36m<cell line: 2>\u001b[1;34m()\u001b[0m\n\u001b[0;32m      1\u001b[0m \u001b[1;32mimport\u001b[0m \u001b[0mbase64\u001b[0m\u001b[1;33m\u001b[0m\u001b[1;33m\u001b[0m\u001b[0m\n\u001b[1;32m----> 2\u001b[1;33m \u001b[0mmail\u001b[0m \u001b[1;33m=\u001b[0m \u001b[0mservice\u001b[0m\u001b[1;33m.\u001b[0m\u001b[0musers\u001b[0m\u001b[1;33m(\u001b[0m\u001b[1;33m)\u001b[0m\u001b[1;33m.\u001b[0m\u001b[0mmessages\u001b[0m\u001b[1;33m(\u001b[0m\u001b[1;33m)\u001b[0m\u001b[1;33m.\u001b[0m\u001b[0mget\u001b[0m\u001b[1;33m(\u001b[0m\u001b[0muserId\u001b[0m\u001b[1;33m=\u001b[0m\u001b[0muser_id\u001b[0m\u001b[1;33m,\u001b[0m \u001b[0mid\u001b[0m\u001b[1;33m=\u001b[0m\u001b[0mid\u001b[0m\u001b[1;33m,\u001b[0m \u001b[0mformat\u001b[0m\u001b[1;33m=\u001b[0m\u001b[1;34m\"full\"\u001b[0m\u001b[1;33m)\u001b[0m\u001b[1;33m.\u001b[0m\u001b[0mexecute\u001b[0m\u001b[1;33m(\u001b[0m\u001b[1;33m)\u001b[0m\u001b[1;33m\u001b[0m\u001b[1;33m\u001b[0m\u001b[0m\n\u001b[0m",
      "\u001b[1;31mNameError\u001b[0m: name 'user_id' is not defined"
     ]
    }
   ],
   "source": [
    "import base64  \n",
    "mail = service.users().messages().get(userId=user_id, id=id, format=\"full\").execute()\n"
   ]
  },
  {
   "cell_type": "code",
   "execution_count": 93,
   "id": "695f440b-b86d-4670-91ad-57b04f6ccdaa",
   "metadata": {},
   "outputs": [],
   "source": [
    "\n",
    " List=0\n",
    "def search_emails(query_stirng: str, label_ids: List=None):\n",
    "    try:\n",
    "        message_list_response = service.users().messages().list(\n",
    "            userId='me',\n",
    "            labelIds=label_ids,\n",
    "            q=query_string\n",
    "        ).execute()\n",
    "\n",
    "        message_items = message_list_response.get('messages')\n",
    "        next_page_token = message_list_response.get('nextPageToken')\n",
    "\n",
    "        while next_page_token:\n",
    "            message_list_response = service.users().messages().list(\n",
    "                userId='me',\n",
    "                labelIds=label_ids,\n",
    "                q=query_string,\n",
    "                pageToken=next_page_token\n",
    "            ).execute()\n",
    "\n",
    "            message_items.extend(message_list_response.get('messages'))\n",
    "            next_page_token = message_list_response.get('nextPageToken')\n",
    "        return message_items\n",
    "    except Exception as e:\n",
    "        raise NoEmailFound('No emails returned')\n"
   ]
  },
  {
   "cell_type": "code",
   "execution_count": 94,
   "id": "43012f19-44b8-4f7b-a8a1-46ea7c09c052",
   "metadata": {},
   "outputs": [
    {
     "ename": "NameError",
     "evalue": "name 'NoEmailFound' is not defined",
     "output_type": "error",
     "traceback": [
      "\u001b[1;31m---------------------------------------------------------------------------\u001b[0m",
      "\u001b[1;31mNameError\u001b[0m                                 Traceback (most recent call last)",
      "\u001b[1;32m~\\AppData\\Local\\Temp\\1\\ipykernel_19308\\3736326514.py\u001b[0m in \u001b[0;36msearch_emails\u001b[1;34m(query_stirng, label_ids)\u001b[0m\n\u001b[0;32m      6\u001b[0m            \u001b[0mlabelIds\u001b[0m\u001b[1;33m=\u001b[0m\u001b[0mlabel_ids\u001b[0m\u001b[1;33m,\u001b[0m\u001b[1;33m\u001b[0m\u001b[1;33m\u001b[0m\u001b[0m\n\u001b[1;32m----> 7\u001b[1;33m            \u001b[0mq\u001b[0m\u001b[1;33m=\u001b[0m\u001b[0mquery_string\u001b[0m\u001b[1;33m\u001b[0m\u001b[1;33m\u001b[0m\u001b[0m\n\u001b[0m\u001b[0;32m      8\u001b[0m        ).execute()\n",
      "\u001b[1;31mNameError\u001b[0m: name 'query_string' is not defined",
      "\nDuring handling of the above exception, another exception occurred:\n",
      "\u001b[1;31mNameError\u001b[0m                                 Traceback (most recent call last)",
      "\u001b[1;32m~\\AppData\\Local\\Temp\\1\\ipykernel_19308\\385568334.py\u001b[0m in \u001b[0;36m<cell line: 1>\u001b[1;34m()\u001b[0m\n\u001b[1;32m----> 1\u001b[1;33m \u001b[0msearch_emails\u001b[0m\u001b[1;33m(\u001b[0m\u001b[1;34m'X-check Italy'\u001b[0m\u001b[1;33m)\u001b[0m\u001b[1;33m\u001b[0m\u001b[1;33m\u001b[0m\u001b[0m\n\u001b[0m",
      "\u001b[1;32m~\\AppData\\Local\\Temp\\1\\ipykernel_19308\\3736326514.py\u001b[0m in \u001b[0;36msearch_emails\u001b[1;34m(query_stirng, label_ids)\u001b[0m\n\u001b[0;32m     23\u001b[0m        \u001b[1;32mreturn\u001b[0m \u001b[0mmessage_items\u001b[0m\u001b[1;33m\u001b[0m\u001b[1;33m\u001b[0m\u001b[0m\n\u001b[0;32m     24\u001b[0m    \u001b[1;32mexcept\u001b[0m \u001b[0mException\u001b[0m \u001b[1;32mas\u001b[0m \u001b[0me\u001b[0m\u001b[1;33m:\u001b[0m\u001b[1;33m\u001b[0m\u001b[1;33m\u001b[0m\u001b[0m\n\u001b[1;32m---> 25\u001b[1;33m        \u001b[1;32mraise\u001b[0m \u001b[0mNoEmailFound\u001b[0m\u001b[1;33m(\u001b[0m\u001b[1;34m'No emails returned'\u001b[0m\u001b[1;33m)\u001b[0m\u001b[1;33m\u001b[0m\u001b[1;33m\u001b[0m\u001b[0m\n\u001b[0m",
      "\u001b[1;31mNameError\u001b[0m: name 'NoEmailFound' is not defined"
     ]
    }
   ],
   "source": [
    "search_emails('X-check Italy')"
   ]
  },
  {
   "cell_type": "code",
   "execution_count": 84,
   "id": "d425fa34-5696-41da-8f52-394db382abaa",
   "metadata": {},
   "outputs": [
    {
     "ename": "HttpError",
     "evalue": "<HttpError 400 when requesting https://gmail.googleapis.com/gmail/v1/users/me/messages/%3Cbuilt-in%20function%20id%3E?format=full&alt=json returned \"Invalid id value\". Details: \"[{'message': 'Invalid id value', 'domain': 'global', 'reason': 'invalidArgument'}]\">",
     "output_type": "error",
     "traceback": [
      "\u001b[1;31m---------------------------------------------------------------------------\u001b[0m",
      "\u001b[1;31mHttpError\u001b[0m                                 Traceback (most recent call last)",
      "\u001b[1;32m~\\AppData\\Local\\Temp\\1\\ipykernel_19308\\3161986734.py\u001b[0m in \u001b[0;36m<cell line: 31>\u001b[1;34m()\u001b[0m\n\u001b[0;32m     29\u001b[0m \u001b[1;31m# result = service.users().messages().list(userId='me', ).execute()\u001b[0m\u001b[1;33m\u001b[0m\u001b[1;33m\u001b[0m\u001b[0m\n\u001b[0;32m     30\u001b[0m \u001b[1;32mimport\u001b[0m \u001b[0mbase64\u001b[0m\u001b[1;33m\u001b[0m\u001b[1;33m\u001b[0m\u001b[0m\n\u001b[1;32m---> 31\u001b[1;33m \u001b[0mmail\u001b[0m \u001b[1;33m=\u001b[0m \u001b[0mservice\u001b[0m\u001b[1;33m.\u001b[0m\u001b[0musers\u001b[0m\u001b[1;33m(\u001b[0m\u001b[1;33m)\u001b[0m\u001b[1;33m.\u001b[0m\u001b[0mmessages\u001b[0m\u001b[1;33m(\u001b[0m\u001b[1;33m)\u001b[0m\u001b[1;33m.\u001b[0m\u001b[0mget\u001b[0m\u001b[1;33m(\u001b[0m\u001b[0muserId\u001b[0m\u001b[1;33m=\u001b[0m\u001b[1;34m'me'\u001b[0m\u001b[1;33m,\u001b[0m \u001b[0mid\u001b[0m\u001b[1;33m=\u001b[0m\u001b[0mid\u001b[0m\u001b[1;33m,\u001b[0m \u001b[0mformat\u001b[0m\u001b[1;33m=\u001b[0m\u001b[1;34m\"full\"\u001b[0m\u001b[1;33m)\u001b[0m\u001b[1;33m.\u001b[0m\u001b[0mexecute\u001b[0m\u001b[1;33m(\u001b[0m\u001b[1;33m)\u001b[0m\u001b[1;33m\u001b[0m\u001b[1;33m\u001b[0m\u001b[0m\n\u001b[0m\u001b[0;32m     32\u001b[0m \u001b[1;33m\u001b[0m\u001b[0m\n\u001b[0;32m     33\u001b[0m \u001b[1;32mdef\u001b[0m \u001b[0mparse_msg\u001b[0m\u001b[1;33m(\u001b[0m\u001b[0mmsg\u001b[0m\u001b[1;33m)\u001b[0m\u001b[1;33m:\u001b[0m\u001b[1;33m\u001b[0m\u001b[1;33m\u001b[0m\u001b[0m\n",
      "\u001b[1;32m~\\Documents\\winpython\\WPy64-31050\\python-3.10.5.amd64\\lib\\site-packages\\googleapiclient\\_helpers.py\u001b[0m in \u001b[0;36mpositional_wrapper\u001b[1;34m(*args, **kwargs)\u001b[0m\n\u001b[0;32m    128\u001b[0m                 \u001b[1;32melif\u001b[0m \u001b[0mpositional_parameters_enforcement\u001b[0m \u001b[1;33m==\u001b[0m \u001b[0mPOSITIONAL_WARNING\u001b[0m\u001b[1;33m:\u001b[0m\u001b[1;33m\u001b[0m\u001b[1;33m\u001b[0m\u001b[0m\n\u001b[0;32m    129\u001b[0m                     \u001b[0mlogger\u001b[0m\u001b[1;33m.\u001b[0m\u001b[0mwarning\u001b[0m\u001b[1;33m(\u001b[0m\u001b[0mmessage\u001b[0m\u001b[1;33m)\u001b[0m\u001b[1;33m\u001b[0m\u001b[1;33m\u001b[0m\u001b[0m\n\u001b[1;32m--> 130\u001b[1;33m             \u001b[1;32mreturn\u001b[0m \u001b[0mwrapped\u001b[0m\u001b[1;33m(\u001b[0m\u001b[1;33m*\u001b[0m\u001b[0margs\u001b[0m\u001b[1;33m,\u001b[0m \u001b[1;33m**\u001b[0m\u001b[0mkwargs\u001b[0m\u001b[1;33m)\u001b[0m\u001b[1;33m\u001b[0m\u001b[1;33m\u001b[0m\u001b[0m\n\u001b[0m\u001b[0;32m    131\u001b[0m \u001b[1;33m\u001b[0m\u001b[0m\n\u001b[0;32m    132\u001b[0m         \u001b[1;32mreturn\u001b[0m \u001b[0mpositional_wrapper\u001b[0m\u001b[1;33m\u001b[0m\u001b[1;33m\u001b[0m\u001b[0m\n",
      "\u001b[1;32m~\\Documents\\winpython\\WPy64-31050\\python-3.10.5.amd64\\lib\\site-packages\\googleapiclient\\http.py\u001b[0m in \u001b[0;36mexecute\u001b[1;34m(self, http, num_retries)\u001b[0m\n\u001b[0;32m    936\u001b[0m             \u001b[0mcallback\u001b[0m\u001b[1;33m(\u001b[0m\u001b[0mresp\u001b[0m\u001b[1;33m)\u001b[0m\u001b[1;33m\u001b[0m\u001b[1;33m\u001b[0m\u001b[0m\n\u001b[0;32m    937\u001b[0m         \u001b[1;32mif\u001b[0m \u001b[0mresp\u001b[0m\u001b[1;33m.\u001b[0m\u001b[0mstatus\u001b[0m \u001b[1;33m>=\u001b[0m \u001b[1;36m300\u001b[0m\u001b[1;33m:\u001b[0m\u001b[1;33m\u001b[0m\u001b[1;33m\u001b[0m\u001b[0m\n\u001b[1;32m--> 938\u001b[1;33m             \u001b[1;32mraise\u001b[0m \u001b[0mHttpError\u001b[0m\u001b[1;33m(\u001b[0m\u001b[0mresp\u001b[0m\u001b[1;33m,\u001b[0m \u001b[0mcontent\u001b[0m\u001b[1;33m,\u001b[0m \u001b[0muri\u001b[0m\u001b[1;33m=\u001b[0m\u001b[0mself\u001b[0m\u001b[1;33m.\u001b[0m\u001b[0muri\u001b[0m\u001b[1;33m)\u001b[0m\u001b[1;33m\u001b[0m\u001b[1;33m\u001b[0m\u001b[0m\n\u001b[0m\u001b[0;32m    939\u001b[0m         \u001b[1;32mreturn\u001b[0m \u001b[0mself\u001b[0m\u001b[1;33m.\u001b[0m\u001b[0mpostproc\u001b[0m\u001b[1;33m(\u001b[0m\u001b[0mresp\u001b[0m\u001b[1;33m,\u001b[0m \u001b[0mcontent\u001b[0m\u001b[1;33m)\u001b[0m\u001b[1;33m\u001b[0m\u001b[1;33m\u001b[0m\u001b[0m\n\u001b[0;32m    940\u001b[0m \u001b[1;33m\u001b[0m\u001b[0m\n",
      "\u001b[1;31mHttpError\u001b[0m: <HttpError 400 when requesting https://gmail.googleapis.com/gmail/v1/users/me/messages/%3Cbuilt-in%20function%20id%3E?format=full&alt=json returned \"Invalid id value\". Details: \"[{'message': 'Invalid id value', 'domain': 'global', 'reason': 'invalidArgument'}]\">"
     ]
    }
   ],
   "source": [
    "# Variable creds will store the user access token.\n",
    "# If no valid token found, we will create one.\n",
    "creds = None\n",
    "\n",
    "# The file token.pickle contains the user access token.\n",
    "# Check if it exists\n",
    "if os.path.exists('token.pickle'):\n",
    "\n",
    "    # Read the token from the file and store it in the variable creds\n",
    "    with open('token.pickle', 'rb') as token:\n",
    "        creds = pickle.load(token)\n",
    "\n",
    "# If credentials are not available or are invalid, ask the user to log in.\n",
    "if not creds or not creds.valid:\n",
    "    if creds and creds.expired and creds.refresh_token:\n",
    "        creds.refresh(Request())\n",
    "    else:\n",
    "        flow = InstalledAppFlow.from_client_secrets_file('credentials.json', SCOPES)\n",
    "        creds = flow.run_local_server(port=0)\n",
    "\n",
    "    # Save the access token in token.pickle file for the next run\n",
    "    with open('token.pickle', 'wb') as token:\n",
    "        pickle.dump(creds, token)\n",
    "\n",
    "# Connect to the Gmail API\n",
    "service = build('gmail', 'v1', credentials=creds)\n",
    "\n",
    "# request a list of all the messages\n",
    "# result = service.users().messages().list(userId='me', ).execute()\n",
    "import base64  \n",
    "mail = service.users().messages().get(userId='me', id=id, format=\"full\").execute()\n",
    "\n",
    "def parse_msg(msg):\n",
    "    if msg.get(\"payload\").get(\"body\").get(\"data\"):\n",
    "        return base64.urlsafe_b64decode(msg.get(\"payload\").get(\"body\").get(\"data\").encode(\"ASCII\")).decode(\"utf-8\")\n",
    "    return msg.get(\"snippet\") \n"
   ]
  },
  {
   "cell_type": "code",
   "execution_count": null,
   "id": "2cdd70fb-0c6b-4beb-b616-e7d59855b0a6",
   "metadata": {},
   "outputs": [],
   "source": [
    "result = service.users().messages().list(userId='me', ).execute()\n",
    "\n",
    "# We can also pass maxResults to get any number of emails. Like this:\n",
    "# result = service.users().messages().list(maxResults=200, userId='me').execute()\n",
    "messages = result.get('messages')[0:10]\n",
    "# print(messages)\n",
    "# limit=10\n",
    "# # messages is a list of dictionaries where each dictionary contains a message id.\n",
    "# counter=0\n",
    "# # iterate through all the messages\n",
    "for msg in messages:\n",
    "\n",
    "    # Get the message from its id\n",
    "    txt = service.users().messages().get(userId='me', id=msg['id'], format='full').execute()\n",
    "    messages.txt"
   ]
  }
 ],
 "metadata": {
  "kernelspec": {
   "display_name": "Python 3",
   "language": "python",
   "name": "python3"
  },
  "language_info": {
   "codemirror_mode": {
    "name": "ipython",
    "version": 3
   },
   "file_extension": ".py",
   "mimetype": "text/x-python",
   "name": "python",
   "nbconvert_exporter": "python",
   "pygments_lexer": "ipython3",
   "version": "3.10.5"
  }
 },
 "nbformat": 4,
 "nbformat_minor": 5
}
