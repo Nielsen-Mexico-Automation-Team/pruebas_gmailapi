{
 "cells": [
  {
   "cell_type": "code",
   "execution_count": 89,
   "id": "20b300d7-0233-48cd-acad-a5429923ef37",
   "metadata": {},
   "outputs": [],
   "source": [
    "import pandas as pd\n",
    "import numpy as np \n"
   ]
  },
  {
   "cell_type": "code",
   "execution_count": null,
   "id": "9494f5a8-eae6-4357-8541-2b1c1d1e3b83",
   "metadata": {},
   "outputs": [],
   "source": [
    "# Primero hay que averigüar cuál es el label Id de los X-check de Italia. \n",
    "# ESto se logra leyendo el metadata. (cambiando 'raw' por 'metadata')\n",
    "#Teniendo eso, ya se puede leer el contenido decodificándolo"
   ]
  },
  {
   "cell_type": "code",
   "execution_count": 145,
   "id": "ea9effc1-1cd2-4eed-b49e-e9c524fad5aa",
   "metadata": {},
   "outputs": [],
   "source": [
    "# import the required libraries\n",
    "from googleapiclient.discovery import build\n",
    "from google_auth_oauthlib.flow import InstalledAppFlow\n",
    "from google.auth.transport.requests import Request\n",
    "import pickle\n",
    "import os.path\n",
    "import base64\n",
    "import email\n",
    "from bs4 import BeautifulSoup\n",
    "\n",
    "# Define the SCOPES. If modifying it, delete the token.pickle file.\n",
    "SCOPES = ['https://www.googleapis.com/auth/gmail.readonly']\n",
    "\n",
    "def getEmails():\n",
    "    # Variable creds will store the user access token.\n",
    "    # If no valid token found, we will create one.\n",
    "    creds = None\n",
    "\n",
    "    # The file token.pickle contains the user access token.\n",
    "    # Check if it exists\n",
    "    if os.path.exists('token.pickle'):\n",
    "\n",
    "        # Read the token from the file and store it in the variable creds\n",
    "        with open('token.pickle', 'rb') as token:\n",
    "            creds = pickle.load(token)\n",
    "\n",
    "    # If credentials are not available or are invalid, ask the user to log in.\n",
    "    if not creds or not creds.valid:\n",
    "        if creds and creds.expired and creds.refresh_token:\n",
    "            creds.refresh(Request())\n",
    "        else:\n",
    "            flow = InstalledAppFlow.from_client_secrets_file('credentials.json', SCOPES)\n",
    "            creds = flow.run_local_server(port=0)\n",
    "\n",
    "        # Save the access token in token.pickle file for the next run\n",
    "        with open('token.pickle', 'wb') as token:\n",
    "            pickle.dump(creds, token)\n",
    "\n",
    "    # Connect to the Gmail API\n",
    "    service = build('gmail', 'v1', credentials=creds)\n",
    "\n",
    "    # request a list of all the messages\n",
    "    result = service.users().messages().list(userId='me', labelIds=['Label_1160941541567749419']).execute()\n",
    "\n",
    "    # We can also pass maxResults to get any number of emails. Like this:\n",
    "    # result = service.users().messages().list(maxResults=200, userId='me').execute()\n",
    "    messages = result.get('messages')\n",
    "    limit=17\n",
    "    # messages is a list of dictionaries where each dictionary contains a message id.\n",
    "    counter=0\n",
    "    # iterate through all the messages\n",
    "    for msg in messages:\n",
    "\n",
    "        # Get the message from its id\n",
    "        txt = service.users().messages().get(userId='me', id=msg['id'], format='raw').execute()\n",
    "\n",
    "        # Use try-except to avoid any Errors\n",
    "        # try:\n",
    "            # Get value of 'payload' from dictionary 'txt'\n",
    "        # payload = txt['payload']\n",
    "        # headers = payload['headers']\n",
    "        # print(txt)\n",
    "        # Look for Subject and Sender Email in the headers\n",
    "#         for d in headers:\n",
    "#             if d['name'] == 'Subject':\n",
    "#                 subject = d['value']\n",
    "#             if d['name'] == 'From':\n",
    "#                 sender = d['value']\n",
    "\n",
    "#         # The Body of the message is in Encrypted format. So, we have to decode it.\n",
    "#         # Get the data and decode it with base 64 decoder.\n",
    "#         if payload.get('parts')==None:\n",
    "#             print(payload.get('parts'))\n",
    "#         else:\n",
    "#             parts = payload.get('parts')[0]\n",
    "#             print(parts['body'])\n",
    "#             # data = parts['body']['data']\n",
    "#             data = data.replace(\"-\",\"+\").replace(\"_\",\"/\")\n",
    "#             decoded_data = base64.b64decode(data)\n",
    "#             print(d['value'])\n",
    "#             # Now, the data obtained is in lxml. So, we will parse\n",
    "#             # it with BeautifulSoup library\n",
    "#             soup = BeautifulSoup(decoded_data , \"lxml\")\n",
    "#             body = soup.body()\n",
    "\n",
    "        # Printing the subject, sender's email and message\n",
    "        # print(\"Subject: \", subject)\n",
    "        # print(\"From: \", sender)\n",
    "        # # print(\"Message: \", body)\n",
    "        # print('\\n')\n",
    "        counter=counter+1\n",
    "        if counter>=limit:\n",
    "            return(txt)\n",
    "            break\n",
    "    # except:\n",
    "    # \tcounter=counter+1\n",
    "        # print('failed_something')\n",
    "\n",
    "\n",
    "text2 = getEmails()\n"
   ]
  },
  {
   "cell_type": "code",
   "execution_count": 148,
   "id": "e14f742a-27a0-4576-ba3a-12cd215520fc",
   "metadata": {},
   "outputs": [],
   "source": [
    "def parse_msg(msg):\n",
    "    if msg.get(\"payload\").get(\"body\").get(\"data\"):\n",
    "        return base64.urlsafe_b64decode(msg.get(\"payload\").get(\"body\").get(\"data\").encode(\"ASCII\")).decode(\"utf-8\")\n",
    "    return msg.get(\"snippet\") "
   ]
  },
  {
   "cell_type": "code",
   "execution_count": 149,
   "id": "478da263-e69f-4d00-9c95-ef284bf61a9b",
   "metadata": {},
   "outputs": [],
   "source": [
    "msg_content=base64.urlsafe_b64decode(text2['raw'].encode('ASCII')).decode('utf-8')"
   ]
  },
  {
   "cell_type": "code",
   "execution_count": 150,
   "id": "1d737a7a-7186-42fe-8987-72f3002ef0c4",
   "metadata": {},
   "outputs": [],
   "source": [
    "text_file = open(\"data.txt\", \"w\")\n",
    "text_file.write(msg_content)\n",
    "text_file.close()"
   ]
  },
  {
   "cell_type": "code",
   "execution_count": 152,
   "id": "e2e5bdfb-8dfa-4e02-bd6c-7a488f3aacc0",
   "metadata": {},
   "outputs": [],
   "source": [
    "text2.get('payload')"
   ]
  },
  {
   "cell_type": "code",
   "execution_count": 154,
   "id": "c48be68c-e923-4462-b495-8160cc0b27ba",
   "metadata": {},
   "outputs": [
    {
     "data": {
      "text/plain": [
       "'SurveillanceMaster X-Check Report Process Time: 1/16/2023 8:06:07 PM Job Parameters SurveillanceMaster Version 5.23.2206.8 Report Date 1/16/2023 Time Window 16:00:00 to 18:59:59 Include Local Reels'"
      ]
     },
     "execution_count": 154,
     "metadata": {},
     "output_type": "execute_result"
    }
   ],
   "source": [
    "text2['snippet']"
   ]
  }
 ],
 "metadata": {
  "kernelspec": {
   "display_name": "Python 3",
   "language": "python",
   "name": "python3"
  },
  "language_info": {
   "codemirror_mode": {
    "name": "ipython",
    "version": 3
   },
   "file_extension": ".py",
   "mimetype": "text/x-python",
   "name": "python",
   "nbconvert_exporter": "python",
   "pygments_lexer": "ipython3",
   "version": "3.10.5"
  }
 },
 "nbformat": 4,
 "nbformat_minor": 5
}
